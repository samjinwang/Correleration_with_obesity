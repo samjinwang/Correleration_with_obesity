{
 "cells": [
  {
   "cell_type": "code",
   "execution_count": 1,
   "metadata": {},
   "outputs": [],
   "source": [
    "import pandas as pd\n",
    "import numpy as np\n",
    "from bs4 import BeautifulSoup\n",
    "import requests\n",
    "import json"
   ]
  },
  {
   "cell_type": "code",
   "execution_count": 2,
   "metadata": {
    "collapsed": true
   },
   "outputs": [
    {
     "name": "stdout",
     "output_type": "stream",
     "text": [
      "1번째 크롤링 중입니다\n",
      "2번째 크롤링 중입니다\n",
      "3번째 크롤링 중입니다\n",
      "4번째 크롤링 중입니다\n",
      "5번째 크롤링 중입니다\n",
      "6번째 크롤링 중입니다\n",
      "7번째 크롤링 중입니다\n",
      "8번째 크롤링 중입니다\n",
      "9번째 크롤링 중입니다\n",
      "10번째 크롤링 중입니다\n",
      "11번째 크롤링 중입니다\n",
      "12번째 크롤링 중입니다\n",
      "13번째 크롤링 중입니다\n",
      "14번째 크롤링 중입니다\n",
      "15번째 크롤링 중입니다\n",
      "16번째 크롤링 중입니다\n",
      "17번째 크롤링 중입니다\n",
      "18번째 크롤링 중입니다\n",
      "19번째 크롤링 중입니다\n",
      "20번째 크롤링 중입니다\n",
      "21번째 크롤링 중입니다\n",
      "22번째 크롤링 중입니다\n",
      "23번째 크롤링 중입니다\n",
      "24번째 크롤링 중입니다\n",
      "25번째 크롤링 중입니다\n",
      "26번째 크롤링 중입니다\n",
      "27번째 크롤링 중입니다\n",
      "28번째 크롤링 중입니다\n",
      "29번째 크롤링 중입니다\n",
      "30번째 크롤링 중입니다\n",
      "31번째 크롤링 중입니다\n",
      "32번째 크롤링 중입니다\n",
      "33번째 크롤링 중입니다\n",
      "34번째 크롤링 중입니다\n",
      "35번째 크롤링 중입니다\n",
      "36번째 크롤링 중입니다\n",
      "37번째 크롤링 중입니다\n",
      "38번째 크롤링 중입니다\n",
      "39번째 크롤링 중입니다\n",
      "40번째 크롤링 중입니다\n",
      "41번째 크롤링 중입니다\n",
      "42번째 크롤링 중입니다\n",
      "43번째 크롤링 중입니다\n",
      "44번째 크롤링 중입니다\n",
      "45번째 크롤링 중입니다\n",
      "46번째 크롤링 중입니다\n"
     ]
    }
   ],
   "source": [
    "import time\n",
    "seed = np.random.randint(100)\n",
    "np.random.seed(seed)\n",
    "a = np.random.randint(5)\n",
    "time.sleep(1)\n",
    "\n",
    "nene= []\n",
    "cnt = 1\n",
    "\n",
    "for i in range (1, 47):\n",
    "    url = f'https://nenechicken.com/17_new/sub_shop01.asp?page={i}&ex_select=1&ex_select2=&IndexSword=&GUBUN=A'\n",
    "    res = requests.get(url)\n",
    "    html = BeautifulSoup(res.text, 'html.parser')\n",
    "    \n",
    "    print(f'{cnt}번째 크롤링 중입니다')\n",
    "    cnt += 1\n",
    "    \n",
    "    \n",
    "    for j in range(len(html.select('div.shopAdd'))):\n",
    "        nene.append(html.select('div.shopAdd')[j].text)"
   ]
  },
  {
   "cell_type": "code",
   "execution_count": 24,
   "metadata": {},
   "outputs": [
    {
     "data": {
      "text/plain": [
       "1087"
      ]
     },
     "execution_count": 24,
     "metadata": {},
     "output_type": "execute_result"
    }
   ],
   "source": [
    " len(nene)"
   ]
  },
  {
   "cell_type": "code",
   "execution_count": 26,
   "metadata": {},
   "outputs": [
    {
     "data": {
      "text/plain": [
       "'강원'"
      ]
     },
     "execution_count": 26,
     "metadata": {},
     "output_type": "execute_result"
    }
   ],
   "source": [
    "nene[0].split()[0]"
   ]
  },
  {
   "cell_type": "code",
   "execution_count": 30,
   "metadata": {},
   "outputs": [
    {
     "ename": "IndexError",
     "evalue": "list index out of range",
     "output_type": "error",
     "traceback": [
      "\u001b[1;31m---------------------------------------------------------------------------\u001b[0m",
      "\u001b[1;31mIndexError\u001b[0m                                Traceback (most recent call last)",
      "\u001b[1;32m<ipython-input-30-d60fb753ee40>\u001b[0m in \u001b[0;36m<module>\u001b[1;34m\u001b[0m\n\u001b[0;32m     64\u001b[0m \u001b[1;33m\u001b[0m\u001b[0m\n\u001b[0;32m     65\u001b[0m \u001b[1;33m\u001b[0m\u001b[0m\n\u001b[1;32m---> 66\u001b[1;33m     \u001b[1;32melif\u001b[0m \u001b[0msp\u001b[0m\u001b[1;33m[\u001b[0m\u001b[1;36m1\u001b[0m\u001b[1;33m]\u001b[0m \u001b[1;33m==\u001b[0m \u001b[1;34m'한라대학로'\u001b[0m\u001b[1;33m:\u001b[0m\u001b[1;33m\u001b[0m\u001b[1;33m\u001b[0m\u001b[0m\n\u001b[0m\u001b[0;32m     67\u001b[0m         \u001b[0msp\u001b[0m\u001b[1;33m[\u001b[0m\u001b[1;36m1\u001b[0m\u001b[1;33m]\u001b[0m \u001b[1;33m=\u001b[0m \u001b[1;34m'제주시'\u001b[0m\u001b[1;33m\u001b[0m\u001b[1;33m\u001b[0m\u001b[0m\n\u001b[0;32m     68\u001b[0m \u001b[1;33m\u001b[0m\u001b[0m\n",
      "\u001b[1;31mIndexError\u001b[0m: list index out of range"
     ]
    }
   ],
   "source": [
    "new_nene = []\n",
    "\n",
    "for i in range(len(nene)):\n",
    "    sp = []\n",
    "    sp = nene[i].split(' ')[:2]\n",
    "    \n",
    "    if sp[0] == '경기':\n",
    "        sp[0] = '경기도'\n",
    "        \n",
    "    elif sp[0] == '경남':\n",
    "        sp[0] = '경상남도'\n",
    "        \n",
    "    elif sp[0] == '경북':\n",
    "        sp[0] = '경상북도'\n",
    "        \n",
    "    elif sp[0] == '충남':\n",
    "        sp[0] = '충청남도'\n",
    "        \n",
    "    elif sp[0] == '충북':\n",
    "        sp[0] = '충청북도'\n",
    "        \n",
    "    elif sp[0] == '전남':\n",
    "        sp[0] = '전라남도'\n",
    "        \n",
    "    elif sp[0] == '전북':\n",
    "        sp[0] = '전라북도'\n",
    "        \n",
    "    elif sp[0] == '인천':\n",
    "        sp[0] = '인천광역시'\n",
    "    \n",
    "    elif sp[0] == '광주':\n",
    "        sp[0] = '광주광역시'\n",
    "    \n",
    "    elif sp[0] == '대구':\n",
    "        sp[0] = '대구광역시'\n",
    "        \n",
    "    elif sp[0] == '대전':\n",
    "        sp[0] = '대전광역시'\n",
    "        \n",
    "    elif sp[0] == '부산':\n",
    "        sp[0] = '부산광역시'\n",
    "        \n",
    "    elif sp[0] == '서울':\n",
    "        sp[0] = '서울특별시'\n",
    "        \n",
    "    elif sp[0] == '울산':\n",
    "        sp[0] = '울산광역시'\n",
    "        \n",
    "    elif sp[0] == '제주도':\n",
    "        sp[0] = '제주특별자치도'\n",
    "        \n",
    "    elif sp[0] == '세종':\n",
    "        sp[0] = '세종특별자치시'    \n",
    "        \n",
    "    elif sp[0] == '강원':\n",
    "        sp[0] = '강원도'\n",
    "        \n",
    "        \n",
    "        \n",
    "        \n",
    "        \n",
    "        \n",
    "##########################################################################        \n",
    "        \n",
    "        \n",
    "    elif sp[1] == '한라대학로':\n",
    "        sp[1] = '제주시'\n",
    "    \n",
    "    \n",
    "    \n",
    "    \n",
    "        \n",
    "    \n",
    "    new_nene.append(sp[0] + \" \" + sp[1])"
   ]
  },
  {
   "cell_type": "code",
   "execution_count": null,
   "metadata": {},
   "outputs": [],
   "source": [
    "df = pd.DataFrame(new_cheogajip, columns=['addr'])\n",
    "\n",
    "df['category'] = np.nan\n",
    "df['brand'] = np.nan\n",
    "df['category'] = df['category'].fillna('치킨')\n",
    "df['brand'] = df['brand'].fillna('네네치킨')\n",
    "\n",
    "df = df[['category', 'brand', 'addr']]\n",
    "df"
   ]
  },
  {
   "cell_type": "code",
   "execution_count": null,
   "metadata": {},
   "outputs": [],
   "source": [
    "df.to_csv('네네치킨.csv', encoding='utf-8-sig', index = False)"
   ]
  },
  {
   "cell_type": "code",
   "execution_count": null,
   "metadata": {},
   "outputs": [],
   "source": []
  },
  {
   "cell_type": "code",
   "execution_count": null,
   "metadata": {},
   "outputs": [],
   "source": []
  }
 ],
 "metadata": {
  "kernelspec": {
   "display_name": "Python 3",
   "language": "python",
   "name": "python3"
  },
  "language_info": {
   "codemirror_mode": {
    "name": "ipython",
    "version": 3
   },
   "file_extension": ".py",
   "mimetype": "text/x-python",
   "name": "python",
   "nbconvert_exporter": "python",
   "pygments_lexer": "ipython3",
   "version": "3.7.3"
  },
  "toc": {
   "base_numbering": 1,
   "nav_menu": {},
   "number_sections": true,
   "sideBar": true,
   "skip_h1_title": false,
   "title_cell": "Table of Contents",
   "title_sidebar": "Contents",
   "toc_cell": false,
   "toc_position": {},
   "toc_section_display": true,
   "toc_window_display": false
  },
  "varInspector": {
   "cols": {
    "lenName": 16,
    "lenType": 16,
    "lenVar": 40
   },
   "kernels_config": {
    "python": {
     "delete_cmd_postfix": "",
     "delete_cmd_prefix": "del ",
     "library": "var_list.py",
     "varRefreshCmd": "print(var_dic_list())"
    },
    "r": {
     "delete_cmd_postfix": ") ",
     "delete_cmd_prefix": "rm(",
     "library": "var_list.r",
     "varRefreshCmd": "cat(var_dic_list()) "
    }
   },
   "types_to_exclude": [
    "module",
    "function",
    "builtin_function_or_method",
    "instance",
    "_Feature"
   ],
   "window_display": false
  }
 },
 "nbformat": 4,
 "nbformat_minor": 4
}

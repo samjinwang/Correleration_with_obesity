{
 "cells": [
  {
   "cell_type": "code",
   "execution_count": 3,
   "id": "e4cf64ab",
   "metadata": {
    "ExecuteTime": {
     "end_time": "2021-09-30T07:50:49.022241Z",
     "start_time": "2021-09-30T07:50:49.008235Z"
    }
   },
   "outputs": [],
   "source": [
    "import numpy as np\n",
    "import pandas as pd\n",
    "import requests\n",
    "from bs4 import BeautifulSoup\n",
    "import json\n",
    "from selenium import webdriver\n",
    "from selenium.webdriver.common.keys import Keys\n",
    "from bs4 import BeautifulSoup\n",
    "import time"
   ]
  },
  {
   "cell_type": "code",
   "execution_count": 4,
   "id": "ccd9cd88",
   "metadata": {
    "ExecuteTime": {
     "end_time": "2021-09-30T07:50:49.306764Z",
     "start_time": "2021-09-30T07:50:49.288903Z"
    }
   },
   "outputs": [],
   "source": [
    "def countyName(x):\n",
    "    sp = x.split(' ')\n",
    "    \n",
    "    if sp[0] == '경기':\n",
    "        sp[0] = '경기도'\n",
    "        \n",
    "    elif sp[0] == '경남':\n",
    "        sp[0] = '경상남도'\n",
    "        \n",
    "    elif sp[0] == '경북':\n",
    "        sp[0] = '경상북도'\n",
    "        \n",
    "    elif sp[0] == '충남':\n",
    "        sp[0] = '충청남도'\n",
    "        \n",
    "    elif sp[0] == '충북':\n",
    "        sp[0] = '충청북도'\n",
    "        \n",
    "    elif sp[0] == '전남':\n",
    "        sp[0] = '전라남도'\n",
    "        \n",
    "    elif sp[0] == '전북':\n",
    "        sp[0] = '전라북도'\n",
    "        \n",
    "    elif sp[0] == '인천':\n",
    "        sp[0] = '인천광역시'\n",
    "    \n",
    "    elif sp[0] == '광주':\n",
    "        sp[0] = '광주광역시'\n",
    "    \n",
    "    elif sp[0] == '대구':\n",
    "        sp[0] = '대구광역시'\n",
    "        \n",
    "    elif sp[0] == '대전':\n",
    "        sp[0] = '대전광역시'\n",
    "        \n",
    "    elif sp[0] == '부산':\n",
    "        sp[0] = '부산광역시'\n",
    "        \n",
    "    elif sp[0] == '서울':\n",
    "        sp[0] = '서울특별시'\n",
    "        \n",
    "    elif sp[0] == '울산':\n",
    "        sp[0] = '울산광역시'\n",
    "        \n",
    "    elif sp[0] == '제주도':\n",
    "        sp[0] = '제주특별자치도'\n",
    "        \n",
    "    elif sp[0] == '제주':\n",
    "        sp[0] = '제주특별자치도'\n",
    "        \n",
    "    elif sp[0] == '세종':\n",
    "        sp[0] = '세종특별자치시'    \n",
    "        \n",
    "    elif sp[0] == '세종시':\n",
    "        sp[0] = '세종특별자치시'\n",
    "##########################################################################        \n",
    "    elif sp[1] == '한라대학로':\n",
    "        sp[1] = '제주시'\n",
    "    \n",
    "    return \" \".join(sp)"
   ]
  },
  {
   "cell_type": "code",
   "execution_count": 5,
   "id": "e2700c6a",
   "metadata": {
    "ExecuteTime": {
     "end_time": "2021-09-30T07:50:49.536803Z",
     "start_time": "2021-09-30T07:50:49.514871Z"
    }
   },
   "outputs": [],
   "source": [
    "# def one_page_crawler(driver,brand,food_type,df):\n",
    "#     html = BeautifulSoup(driver.page_source, 'html.parser')\n",
    "#     for i in range(15):\n",
    "#         if html.select('a.link_name')[i].text.split(' ')[0] == brand: #다른가게 크롤방지\n",
    "#             df = np.append(df,food_type)\n",
    "#             df = np.append(df,brand)\n",
    "#             df = np.append(df, countyName(\" \".join(html.select('div.addr')[i].text.replace('\\n','').split(' ')[0:2])))\n",
    "#     time.sleep(1.5)"
   ]
  },
  {
   "cell_type": "code",
   "execution_count": 15,
   "id": "12bf4e9b",
   "metadata": {
    "ExecuteTime": {
     "end_time": "2021-09-30T08:07:59.869525Z",
     "start_time": "2021-09-30T08:07:59.848923Z"
    }
   },
   "outputs": [],
   "source": [
    "def kakao_map_crawler(food_type, brand):\n",
    "\n",
    "    df = np.array([])\n",
    "    url = 'https://map.kakao.com'\n",
    "    driver = webdriver.Chrome('./chromedriver')\n",
    "    time.sleep(2)\n",
    "    driver.get(url)\n",
    "    time.sleep(2)\n",
    "    html = BeautifulSoup(driver.page_source, 'html.parser')\n",
    "\n",
    "    driver.find_element_by_xpath('//*[@id=\"search.keyword.query\"]').send_keys(f'{brand}\\n')\n",
    "    time.sleep(1)\n",
    "\n",
    "    driver.find_element_by_xpath('/html/body/div[10]/div/div/div').click()\n",
    "    time.sleep(1)\n",
    "\n",
    "    driver.find_element_by_xpath('//*[@id=\"info.main.options\"]/li[2]').click()\n",
    "    time.sleep(1)\n",
    "\n",
    "    #1페이지크롤\n",
    "    html = BeautifulSoup(driver.page_source, 'html.parser')\n",
    "    for i in range(15):\n",
    "        if html.select('a.link_name')[i].text.split(' ')[0] == brand: #다른가게 크롤방지\n",
    "            df = np.append(df,food_type)\n",
    "            df = np.append(df,brand)\n",
    "            df = np.append(df, countyName(\" \".join(html.select('div.addr')[i].text.replace('\\n','').split(' ')[0:2])))\n",
    "    time.sleep(1.5)\n",
    "\n",
    "    #2~5페이지크롤\n",
    "    for j in range(2,6):\n",
    "        driver.find_element_by_xpath(f'//*[@id=\"info.search.page.no{j}\"]').click()\n",
    "        time.sleep(2)\n",
    "        html = BeautifulSoup(driver.page_source, 'html.parser')\n",
    "        for i in range(15):\n",
    "            if html.select('a.link_name')[i].text.split(' ')[0] == brand: #다른가게 크롤방지\n",
    "                df = np.append(df, food_type)\n",
    "                df = np.append(df, brand)\n",
    "                df = np.append(df, countyName(\" \".join(html.select('div.addr')[i].text.replace('\\n','').split(' ')[0:2])))\n",
    "\n",
    "\n",
    "    #그다음 5개로 넘어가기\n",
    "    while True:\n",
    "        try:\n",
    "            driver.find_element_by_xpath('//*[@id=\"info.search.page.next\"]').click() #다음 5페이지\n",
    "            time.sleep(2)\n",
    "            html = BeautifulSoup(driver.page_source, 'html.parser')\n",
    "            for i in range(15):\n",
    "                if html.select('a.link_name')[i].text.split(' ')[0] == brand: #다른가게 크롤방지\n",
    "                    df = np.append(df, food_type)\n",
    "                    df = np.append(df, brand)\n",
    "                    df = np.append(df, countyName(\" \".join(html.select('div.addr')[i].text.replace('\\n','').split(' ')[0:2])))\n",
    "\n",
    "            for k in range(2,6):\n",
    "                driver.find_element_by_xpath(f'//*[@id=\"info.search.page.no{k}\"]').click()\n",
    "                time.sleep(2)\n",
    "                html = BeautifulSoup(driver.page_source, 'html.parser')\n",
    "                for i in range(15):\n",
    "                    if html.select('a.link_name')[i].text.split(' ')[0] == brand: #다른가게 크롤방지\n",
    "                        df = np.append(df, food_type)\n",
    "                        df = np.append(df, brand)\n",
    "                        df = np.append(df, countyName(\" \".join(html.select('div.addr')[i].text.replace('\\n','').split(' ')[0:2])))\n",
    "        except:\n",
    "            break\n",
    "    \n",
    "    df = pd.DataFrame(df.reshape(-1,3),columns =  [['category', 'brand', 'addr']]) #데이터 프레임화\n",
    "    df.to_csv(f'{brand}.csv',encoding='utf-8-sig', index = False) #csv 저장\n"
   ]
  },
  {
   "cell_type": "code",
   "execution_count": 16,
   "id": "9da8605d",
   "metadata": {
    "ExecuteTime": {
     "end_time": "2021-09-30T08:08:00.277305Z",
     "start_time": "2021-09-30T08:08:00.258362Z"
    }
   },
   "outputs": [],
   "source": [
    "pizza_list = ['피자스쿨', '도미노피자', '피자헛', '피자알볼로', '피자에땅', '미스터피자', '반올림피자샵']"
   ]
  },
  {
   "cell_type": "code",
   "execution_count": null,
   "id": "e282d9fe",
   "metadata": {
    "ExecuteTime": {
     "start_time": "2021-09-30T08:08:01.358Z"
    }
   },
   "outputs": [
    {
     "name": "stdout",
     "output_type": "stream",
     "text": [
      "피자스쿨 크롤링 중\n"
     ]
    }
   ],
   "source": [
    "for pizza in pizza_list:\n",
    "    print(pizza, '크롤링 중')\n",
    "    kakao_map_crawler('피자', pizza)\n",
    "    print(pizza, '크롤링 완료')"
   ]
  },
  {
   "cell_type": "code",
   "execution_count": null,
   "id": "28587266",
   "metadata": {},
   "outputs": [],
   "source": []
  }
 ],
 "metadata": {
  "kernelspec": {
   "display_name": "Python 3 (ipykernel)",
   "language": "python",
   "name": "python3"
  },
  "language_info": {
   "codemirror_mode": {
    "name": "ipython",
    "version": 3
   },
   "file_extension": ".py",
   "mimetype": "text/x-python",
   "name": "python",
   "nbconvert_exporter": "python",
   "pygments_lexer": "ipython3",
   "version": "3.7.4"
  },
  "toc": {
   "base_numbering": 1,
   "nav_menu": {},
   "number_sections": true,
   "sideBar": true,
   "skip_h1_title": false,
   "title_cell": "Table of Contents",
   "title_sidebar": "Contents",
   "toc_cell": false,
   "toc_position": {},
   "toc_section_display": true,
   "toc_window_display": false
  }
 },
 "nbformat": 4,
 "nbformat_minor": 5
}
